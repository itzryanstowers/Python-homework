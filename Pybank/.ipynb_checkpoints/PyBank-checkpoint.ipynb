{
 "cells": [
  {
   "cell_type": "code",
   "execution_count": 87,
   "id": "686b0c5d-cf8b-4b7e-9d7c-ca557b7717fb",
   "metadata": {},
   "outputs": [],
   "source": [
    "import pandas as pd"
   ]
  },
  {
   "cell_type": "code",
   "execution_count": 88,
   "id": "6b8dc9f9-cab6-43d5-be67-93907208c7b7",
   "metadata": {},
   "outputs": [],
   "source": [
    "file = \"OneDrive/Desktop/Fintech/Starter_Code/PyBank/Resources/budget_data.csv\""
   ]
  },
  {
   "cell_type": "code",
   "execution_count": 89,
   "id": "b316db3d-c919-4297-8d65-8d1965995026",
   "metadata": {},
   "outputs": [],
   "source": [
    "df = pd.read_csv(file)"
   ]
  },
  {
   "cell_type": "markdown",
   "id": "6ef6c7e1-0075-499f-bb19-21b9b5f39674",
   "metadata": {},
   "source": [
    "# Data Exploration"
   ]
  },
  {
   "cell_type": "code",
   "execution_count": 90,
   "id": "8f2b6803-4ac8-4848-abde-734b00d54fe1",
   "metadata": {},
   "outputs": [
    {
     "data": {
      "text/html": [
       "<div>\n",
       "<style scoped>\n",
       "    .dataframe tbody tr th:only-of-type {\n",
       "        vertical-align: middle;\n",
       "    }\n",
       "\n",
       "    .dataframe tbody tr th {\n",
       "        vertical-align: top;\n",
       "    }\n",
       "\n",
       "    .dataframe thead th {\n",
       "        text-align: right;\n",
       "    }\n",
       "</style>\n",
       "<table border=\"1\" class=\"dataframe\">\n",
       "  <thead>\n",
       "    <tr style=\"text-align: right;\">\n",
       "      <th></th>\n",
       "      <th>Date</th>\n",
       "      <th>Profit/Losses</th>\n",
       "    </tr>\n",
       "  </thead>\n",
       "  <tbody>\n",
       "    <tr>\n",
       "      <th>0</th>\n",
       "      <td>Jan-2010</td>\n",
       "      <td>867884</td>\n",
       "    </tr>\n",
       "    <tr>\n",
       "      <th>1</th>\n",
       "      <td>Feb-2010</td>\n",
       "      <td>984655</td>\n",
       "    </tr>\n",
       "    <tr>\n",
       "      <th>2</th>\n",
       "      <td>Mar-2010</td>\n",
       "      <td>322013</td>\n",
       "    </tr>\n",
       "    <tr>\n",
       "      <th>3</th>\n",
       "      <td>Apr-2010</td>\n",
       "      <td>-69417</td>\n",
       "    </tr>\n",
       "    <tr>\n",
       "      <th>4</th>\n",
       "      <td>May-2010</td>\n",
       "      <td>310503</td>\n",
       "    </tr>\n",
       "    <tr>\n",
       "      <th>5</th>\n",
       "      <td>Jun-2010</td>\n",
       "      <td>522857</td>\n",
       "    </tr>\n",
       "    <tr>\n",
       "      <th>6</th>\n",
       "      <td>Jul-2010</td>\n",
       "      <td>1033096</td>\n",
       "    </tr>\n",
       "    <tr>\n",
       "      <th>7</th>\n",
       "      <td>Aug-2010</td>\n",
       "      <td>604885</td>\n",
       "    </tr>\n",
       "    <tr>\n",
       "      <th>8</th>\n",
       "      <td>Sep-2010</td>\n",
       "      <td>-216386</td>\n",
       "    </tr>\n",
       "    <tr>\n",
       "      <th>9</th>\n",
       "      <td>Oct-2010</td>\n",
       "      <td>477532</td>\n",
       "    </tr>\n",
       "  </tbody>\n",
       "</table>\n",
       "</div>"
      ],
      "text/plain": [
       "       Date  Profit/Losses\n",
       "0  Jan-2010         867884\n",
       "1  Feb-2010         984655\n",
       "2  Mar-2010         322013\n",
       "3  Apr-2010         -69417\n",
       "4  May-2010         310503\n",
       "5  Jun-2010         522857\n",
       "6  Jul-2010        1033096\n",
       "7  Aug-2010         604885\n",
       "8  Sep-2010        -216386\n",
       "9  Oct-2010         477532"
      ]
     },
     "execution_count": 90,
     "metadata": {},
     "output_type": "execute_result"
    }
   ],
   "source": [
    "#First 10 rows of data\n",
    "df.head(10)"
   ]
  },
  {
   "cell_type": "code",
   "execution_count": 91,
   "id": "7f31d564-f196-44bb-b143-a39eefa2498c",
   "metadata": {},
   "outputs": [
    {
     "data": {
      "text/html": [
       "<div>\n",
       "<style scoped>\n",
       "    .dataframe tbody tr th:only-of-type {\n",
       "        vertical-align: middle;\n",
       "    }\n",
       "\n",
       "    .dataframe tbody tr th {\n",
       "        vertical-align: top;\n",
       "    }\n",
       "\n",
       "    .dataframe thead th {\n",
       "        text-align: right;\n",
       "    }\n",
       "</style>\n",
       "<table border=\"1\" class=\"dataframe\">\n",
       "  <thead>\n",
       "    <tr style=\"text-align: right;\">\n",
       "      <th></th>\n",
       "      <th>Date</th>\n",
       "      <th>Profit/Losses</th>\n",
       "    </tr>\n",
       "  </thead>\n",
       "  <tbody>\n",
       "    <tr>\n",
       "      <th>76</th>\n",
       "      <td>May-2016</td>\n",
       "      <td>445709</td>\n",
       "    </tr>\n",
       "    <tr>\n",
       "      <th>77</th>\n",
       "      <td>Jun-2016</td>\n",
       "      <td>712961</td>\n",
       "    </tr>\n",
       "    <tr>\n",
       "      <th>78</th>\n",
       "      <td>Jul-2016</td>\n",
       "      <td>-1163797</td>\n",
       "    </tr>\n",
       "    <tr>\n",
       "      <th>79</th>\n",
       "      <td>Aug-2016</td>\n",
       "      <td>569899</td>\n",
       "    </tr>\n",
       "    <tr>\n",
       "      <th>80</th>\n",
       "      <td>Sep-2016</td>\n",
       "      <td>768450</td>\n",
       "    </tr>\n",
       "    <tr>\n",
       "      <th>81</th>\n",
       "      <td>Oct-2016</td>\n",
       "      <td>102685</td>\n",
       "    </tr>\n",
       "    <tr>\n",
       "      <th>82</th>\n",
       "      <td>Nov-2016</td>\n",
       "      <td>795914</td>\n",
       "    </tr>\n",
       "    <tr>\n",
       "      <th>83</th>\n",
       "      <td>Dec-2016</td>\n",
       "      <td>60988</td>\n",
       "    </tr>\n",
       "    <tr>\n",
       "      <th>84</th>\n",
       "      <td>Jan-2017</td>\n",
       "      <td>138230</td>\n",
       "    </tr>\n",
       "    <tr>\n",
       "      <th>85</th>\n",
       "      <td>Feb-2017</td>\n",
       "      <td>671099</td>\n",
       "    </tr>\n",
       "  </tbody>\n",
       "</table>\n",
       "</div>"
      ],
      "text/plain": [
       "        Date  Profit/Losses\n",
       "76  May-2016         445709\n",
       "77  Jun-2016         712961\n",
       "78  Jul-2016       -1163797\n",
       "79  Aug-2016         569899\n",
       "80  Sep-2016         768450\n",
       "81  Oct-2016         102685\n",
       "82  Nov-2016         795914\n",
       "83  Dec-2016          60988\n",
       "84  Jan-2017         138230\n",
       "85  Feb-2017         671099"
      ]
     },
     "execution_count": 91,
     "metadata": {},
     "output_type": "execute_result"
    }
   ],
   "source": [
    "#Displaying last 10 rows of data\n",
    "df.tail(10)"
   ]
  },
  {
   "cell_type": "code",
   "execution_count": 92,
   "id": "57359ef8-1df2-4912-b6bd-2c030a17e481",
   "metadata": {},
   "outputs": [
    {
     "data": {
      "text/html": [
       "<div>\n",
       "<style scoped>\n",
       "    .dataframe tbody tr th:only-of-type {\n",
       "        vertical-align: middle;\n",
       "    }\n",
       "\n",
       "    .dataframe tbody tr th {\n",
       "        vertical-align: top;\n",
       "    }\n",
       "\n",
       "    .dataframe thead th {\n",
       "        text-align: right;\n",
       "    }\n",
       "</style>\n",
       "<table border=\"1\" class=\"dataframe\">\n",
       "  <thead>\n",
       "    <tr style=\"text-align: right;\">\n",
       "      <th></th>\n",
       "      <th>Date</th>\n",
       "      <th>Profit/Losses</th>\n",
       "    </tr>\n",
       "  </thead>\n",
       "  <tbody>\n",
       "    <tr>\n",
       "      <th>0</th>\n",
       "      <td>False</td>\n",
       "      <td>False</td>\n",
       "    </tr>\n",
       "    <tr>\n",
       "      <th>1</th>\n",
       "      <td>False</td>\n",
       "      <td>False</td>\n",
       "    </tr>\n",
       "    <tr>\n",
       "      <th>2</th>\n",
       "      <td>False</td>\n",
       "      <td>False</td>\n",
       "    </tr>\n",
       "    <tr>\n",
       "      <th>3</th>\n",
       "      <td>False</td>\n",
       "      <td>False</td>\n",
       "    </tr>\n",
       "    <tr>\n",
       "      <th>4</th>\n",
       "      <td>False</td>\n",
       "      <td>False</td>\n",
       "    </tr>\n",
       "    <tr>\n",
       "      <th>...</th>\n",
       "      <td>...</td>\n",
       "      <td>...</td>\n",
       "    </tr>\n",
       "    <tr>\n",
       "      <th>81</th>\n",
       "      <td>False</td>\n",
       "      <td>False</td>\n",
       "    </tr>\n",
       "    <tr>\n",
       "      <th>82</th>\n",
       "      <td>False</td>\n",
       "      <td>False</td>\n",
       "    </tr>\n",
       "    <tr>\n",
       "      <th>83</th>\n",
       "      <td>False</td>\n",
       "      <td>False</td>\n",
       "    </tr>\n",
       "    <tr>\n",
       "      <th>84</th>\n",
       "      <td>False</td>\n",
       "      <td>False</td>\n",
       "    </tr>\n",
       "    <tr>\n",
       "      <th>85</th>\n",
       "      <td>False</td>\n",
       "      <td>False</td>\n",
       "    </tr>\n",
       "  </tbody>\n",
       "</table>\n",
       "<p>86 rows × 2 columns</p>\n",
       "</div>"
      ],
      "text/plain": [
       "     Date  Profit/Losses\n",
       "0   False          False\n",
       "1   False          False\n",
       "2   False          False\n",
       "3   False          False\n",
       "4   False          False\n",
       "..    ...            ...\n",
       "81  False          False\n",
       "82  False          False\n",
       "83  False          False\n",
       "84  False          False\n",
       "85  False          False\n",
       "\n",
       "[86 rows x 2 columns]"
      ]
     },
     "execution_count": 92,
     "metadata": {},
     "output_type": "execute_result"
    }
   ],
   "source": [
    "#displaying any missing data\n",
    "df.isnull()"
   ]
  },
  {
   "cell_type": "code",
   "execution_count": 93,
   "id": "cd3b0413-2bea-436a-a781-7300be790a88",
   "metadata": {},
   "outputs": [
    {
     "data": {
      "text/plain": [
       "Date             0\n",
       "Profit/Losses    0\n",
       "dtype: int64"
      ]
     },
     "execution_count": 93,
     "metadata": {},
     "output_type": "execute_result"
    }
   ],
   "source": [
    "#adding up total amount of missing/null values\n",
    "df.isnull().sum()"
   ]
  },
  {
   "cell_type": "code",
   "execution_count": 94,
   "id": "e0dcc6b6-92c4-4690-a569-ce92fe81b3d3",
   "metadata": {},
   "outputs": [
    {
     "name": "stdout",
     "output_type": "stream",
     "text": [
      "<class 'pandas.core.frame.DataFrame'>\n",
      "RangeIndex: 86 entries, 0 to 85\n",
      "Data columns (total 2 columns):\n",
      " #   Column         Non-Null Count  Dtype \n",
      "---  ------         --------------  ----- \n",
      " 0   Date           86 non-null     object\n",
      " 1   Profit/Losses  86 non-null     int64 \n",
      "dtypes: int64(1), object(1)\n",
      "memory usage: 1.5+ KB\n"
     ]
    }
   ],
   "source": [
    "#Dataframe information\n",
    "df.info()"
   ]
  },
  {
   "cell_type": "code",
   "execution_count": 95,
   "id": "c2b1b56a-083f-429d-a9ce-08c1aa7ddc3a",
   "metadata": {},
   "outputs": [
    {
     "data": {
      "text/plain": [
       "(86, 2)"
      ]
     },
     "execution_count": 95,
     "metadata": {},
     "output_type": "execute_result"
    }
   ],
   "source": [
    "#shows the amount of rows and columns in the dataset\n",
    "df.shape"
   ]
  },
  {
   "cell_type": "code",
   "execution_count": 96,
   "id": "bc6aa634-78ed-414e-a320-e94b093a6d84",
   "metadata": {},
   "outputs": [
    {
     "data": {
      "text/plain": [
       "Date             object\n",
       "Profit/Losses     int64\n",
       "dtype: object"
      ]
     },
     "execution_count": 96,
     "metadata": {},
     "output_type": "execute_result"
    }
   ],
   "source": [
    "#the different data types \n",
    "df.dtypes"
   ]
  },
  {
   "cell_type": "code",
   "execution_count": 97,
   "id": "eb969b9e-36f6-49bc-9484-c268c775a39f",
   "metadata": {},
   "outputs": [
    {
     "data": {
      "text/plain": [
       "array(['Jan-2010', 'Feb-2010', 'Mar-2010', 'Apr-2010', 'May-2010',\n",
       "       'Jun-2010', 'Jul-2010', 'Aug-2010', 'Sep-2010', 'Oct-2010',\n",
       "       'Nov-2010', 'Dec-2010', 'Jan-2011', 'Feb-2011', 'Mar-2011',\n",
       "       'Apr-2011', 'May-2011', 'Jun-2011', 'Jul-2011', 'Aug-2011',\n",
       "       'Sep-2011', 'Oct-2011', 'Nov-2011', 'Dec-2011', 'Jan-2012',\n",
       "       'Feb-2012', 'Mar-2012', 'Apr-2012', 'May-2012', 'Jun-2012',\n",
       "       'Jul-2012', 'Aug-2012', 'Sep-2012', 'Oct-2012', 'Nov-2012',\n",
       "       'Dec-2012', 'Jan-2013', 'Feb-2013', 'Mar-2013', 'Apr-2013',\n",
       "       'May-2013', 'Jun-2013', 'Jul-2013', 'Aug-2013', 'Sep-2013',\n",
       "       'Oct-2013', 'Nov-2013', 'Dec-2013', 'Jan-2014', 'Feb-2014',\n",
       "       'Mar-2014', 'Apr-2014', 'May-2014', 'Jun-2014', 'Jul-2014',\n",
       "       'Aug-2014', 'Sep-2014', 'Oct-2014', 'Nov-2014', 'Dec-2014',\n",
       "       'Jan-2015', 'Feb-2015', 'Mar-2015', 'Apr-2015', 'May-2015',\n",
       "       'Jun-2015', 'Jul-2015', 'Aug-2015', 'Sep-2015', 'Oct-2015',\n",
       "       'Nov-2015', 'Dec-2015', 'Jan-2016', 'Feb-2016', 'Mar-2016',\n",
       "       'Apr-2016', 'May-2016', 'Jun-2016', 'Jul-2016', 'Aug-2016',\n",
       "       'Sep-2016', 'Oct-2016', 'Nov-2016', 'Dec-2016', 'Jan-2017',\n",
       "       'Feb-2017'], dtype=object)"
      ]
     },
     "execution_count": 97,
     "metadata": {},
     "output_type": "execute_result"
    }
   ],
   "source": [
    "#The different unique values in the dataset\n",
    "df[\"Date\"].unique()"
   ]
  },
  {
   "cell_type": "code",
   "execution_count": 98,
   "id": "4acd5b4c-7e1c-4f39-a727-452faafbe52a",
   "metadata": {},
   "outputs": [
    {
     "data": {
      "text/plain": [
       "array([  867884,   984655,   322013,   -69417,   310503,   522857,\n",
       "        1033096,   604885,  -216386,   477532,   893810,   -80353,\n",
       "         779806,  -335203,   697845,   793163,   485070,   584122,\n",
       "          62729,   668179,   899906,   834719,   132003,   309978,\n",
       "        -755566,  1170593,   252788,  1151518,   817256,   570757,\n",
       "         506702, -1022534,   475062,   779976,   144175,   542494,\n",
       "         359333,   321469,    67780,   471435,   565603,   872480,\n",
       "         789480,   999942, -1196225,   268997,  -687986,  1150461,\n",
       "         682458,   617856,   824098,   581943,   132864,   448062,\n",
       "         689161,   800701,  1166643,   947333,   578668,   988505,\n",
       "        1139715,  1029471,   687533,  -524626,   158620,    87795,\n",
       "         423389,   840723,   568529,   332067,   989499,   778237,\n",
       "         650000, -1100387,  -174946,   757143,   445709,   712961,\n",
       "       -1163797,   569899,   768450,   102685,   795914,    60988,\n",
       "         138230,   671099], dtype=int64)"
      ]
     },
     "execution_count": 98,
     "metadata": {},
     "output_type": "execute_result"
    }
   ],
   "source": [
    "df[\"Profit/Losses\"].unique()"
   ]
  },
  {
   "cell_type": "markdown",
   "id": "e1748b69-7659-4adf-95cd-17c50b50faed",
   "metadata": {},
   "source": [
    "# Profit/Loss Analysis"
   ]
  },
  {
   "cell_type": "markdown",
   "id": "7ff63aff-c497-4802-8103-89b071e264e6",
   "metadata": {},
   "source": [
    "### 1. The total number of months included in the dataset"
   ]
  },
  {
   "cell_type": "code",
   "execution_count": 99,
   "id": "276344fb-1c90-4fdd-ba37-f5e795b6b1f7",
   "metadata": {},
   "outputs": [
    {
     "name": "stdout",
     "output_type": "stream",
     "text": [
      "The total number of months in the data set is 86\n"
     ]
    }
   ],
   "source": [
    "#using the count function to count the total months in the Date column\n",
    "total_months = df['Date'].count()\n",
    "print(f\"The total number of months in the data set is {total_months}\")"
   ]
  },
  {
   "cell_type": "code",
   "execution_count": null,
   "id": "5cd5797b-9b61-4e29-9f03-5d5eae8c7f21",
   "metadata": {},
   "outputs": [],
   "source": []
  },
  {
   "cell_type": "markdown",
   "id": "4dfa7be8-45d3-48fe-9c05-6f4eefbd5049",
   "metadata": {},
   "source": [
    "### 2. The net total amount of Profit/Losses over the entire period"
   ]
  },
  {
   "cell_type": "code",
   "execution_count": 100,
   "id": "fc66d35e-9133-4d5f-9917-8ca6fef28751",
   "metadata": {},
   "outputs": [],
   "source": [
    "#Add up the total values in the profit/losses column\n",
    "net_profit = df['Profit/Losses'].sum()\n",
    "# using curly brackets to input commas for thousands\n",
    "net_profit_losses = '{:,}'.format(net_profit)"
   ]
  },
  {
   "cell_type": "code",
   "execution_count": 101,
   "id": "a668c028-9b94-466a-81ef-2ace72190ddb",
   "metadata": {},
   "outputs": [
    {
     "name": "stdout",
     "output_type": "stream",
     "text": [
      "The net amount of Profit/Losses is $38,382,578\n"
     ]
    }
   ],
   "source": [
    "print(f\"The net amount of Profit/Losses is ${net_profit_losses}\")"
   ]
  },
  {
   "cell_type": "code",
   "execution_count": null,
   "id": "3b3bfe03-f10b-4bc7-975d-86514b54ce7b",
   "metadata": {},
   "outputs": [],
   "source": []
  },
  {
   "cell_type": "markdown",
   "id": "18ecef71-86d9-4cc8-ba90-c941b3bc6e25",
   "metadata": {},
   "source": [
    "### 3. The average of the changes in Profit/Losses over the entire period?"
   ]
  },
  {
   "cell_type": "code",
   "execution_count": 102,
   "id": "61572662-9f58-4cbe-bd26-717b19e27d2e",
   "metadata": {},
   "outputs": [],
   "source": [
    "# use a variable to store the total change\n",
    "total_change = 0\n",
    "\n",
    "# Iterate through the DataFrame rows\n",
    "for i in range(1, total_months):\n",
    "    # Calculate the change from the previous month and adding it to the total\n",
    "    change = df.loc[i, 'Profit/Losses'] - df.loc[i - 1, 'Profit/Losses']\n",
    "    total_change += change"
   ]
  },
  {
   "cell_type": "code",
   "execution_count": 103,
   "id": "3c2ca773-b204-4f92-b6b9-b15259cab2b4",
   "metadata": {},
   "outputs": [],
   "source": [
    "# Calculating the average change by dividing the total_change by the total_months \n",
    "average_change = total_change / total_months"
   ]
  },
  {
   "cell_type": "code",
   "execution_count": 104,
   "id": "808d0a18-2e57-4fbb-8688-bfc373e3fcf8",
   "metadata": {},
   "outputs": [
    {
     "name": "stdout",
     "output_type": "stream",
     "text": [
      "The average of the changes in Profit/Losses is -2288.20\n"
     ]
    }
   ],
   "source": [
    "print(f\"The average of the changes in Profit/Losses is {average_change:.2f}\")"
   ]
  },
  {
   "cell_type": "markdown",
   "id": "a07462a0-0e69-4c9c-a98e-4cb4c18155f2",
   "metadata": {},
   "source": [
    "### 4. The greatest increase in profits (date and amount) over the entire period?"
   ]
  },
  {
   "cell_type": "code",
   "execution_count": 113,
   "id": "facfec48-0d47-4273-9061-45c3d81938ee",
   "metadata": {},
   "outputs": [],
   "source": [
    "# set 3 additional variables for the increase, date, and profit\n",
    "greatest_increase = 0\n",
    "greatest_increase_date = None\n",
    "previous_profit = None\n",
    "\n",
    "for i in range(1, len(df)):\n",
    "    # Calculating the change from the previous month\n",
    "    profit_change = df.loc[i, 'Profit/Losses'] - df.loc[i - 1, 'Profit/Losses']\n",
    "    #using an if statement to check which month had the greatest increase.\n",
    "    if profit_change > greatest_increase:\n",
    "        greatest_increase = profit_change\n",
    "        greatest_increase_date = df.loc[i, 'Date']"
   ]
  },
  {
   "cell_type": "code",
   "execution_count": 114,
   "id": "aa4beea8-bed6-494a-8763-c11dc049a543",
   "metadata": {},
   "outputs": [
    {
     "name": "stdout",
     "output_type": "stream",
     "text": [
      "The greatest increase in profits was $1926159 on Feb-2012.\n"
     ]
    }
   ],
   "source": [
    "print(f\"The greatest increase in profits was ${greatest_increase} on {greatest_increase_date}.\")"
   ]
  },
  {
   "cell_type": "markdown",
   "id": "fd9b0a87-9e9d-4421-9f5d-be263f75bafe",
   "metadata": {},
   "source": [
    "### 5. The greatest decrease in losses (date and amount) over the entire period?"
   ]
  },
  {
   "cell_type": "code",
   "execution_count": 131,
   "id": "b04c01ef-afca-45fd-9110-fd3cd33de4b4",
   "metadata": {},
   "outputs": [],
   "source": [
    "greatest_decrease = None\n",
    "greatest_decrease_date = None\n",
    "\n",
    "for i in range(1, len(df)):\n",
    "    # Calculating the change from the previous month\n",
    "    loss_change = df.loc[i, 'Profit/Losses'] - df.loc[i - 1, 'Profit/Losses']\n",
    "    #checking which is the greatest decrease is 0 or is loss_change is less then current_decrease \n",
    "    if greatest_decrease is None or loss_change < greatest_decrease:\n",
    "        greatest_decrease = loss_change\n",
    "        greatest_decrease_date = df.loc[i, 'Date']"
   ]
  },
  {
   "cell_type": "code",
   "execution_count": 132,
   "id": "97a52570-19ae-4a8b-85d5-bf9acf216596",
   "metadata": {},
   "outputs": [
    {
     "name": "stdout",
     "output_type": "stream",
     "text": [
      "The greatest decrease in profits was $-2196167 on Sep-2013.\n"
     ]
    }
   ],
   "source": [
    "print(f\"The greatest decrease in profits was ${greatest_decrease} on {greatest_decrease_date}.\")"
   ]
  },
  {
   "cell_type": "code",
   "execution_count": null,
   "id": "2fa93afa-e3b4-46a3-9f53-77e1b1eaceab",
   "metadata": {},
   "outputs": [],
   "source": []
  },
  {
   "cell_type": "code",
   "execution_count": null,
   "id": "e2f325da-72c7-4a01-9f7e-c15e2940925d",
   "metadata": {},
   "outputs": [],
   "source": []
  }
 ],
 "metadata": {
  "kernelspec": {
   "display_name": "Python 3 (ipykernel)",
   "language": "python",
   "name": "python3"
  },
  "language_info": {
   "codemirror_mode": {
    "name": "ipython",
    "version": 3
   },
   "file_extension": ".py",
   "mimetype": "text/x-python",
   "name": "python",
   "nbconvert_exporter": "python",
   "pygments_lexer": "ipython3",
   "version": "3.9.12"
  }
 },
 "nbformat": 4,
 "nbformat_minor": 5
}
