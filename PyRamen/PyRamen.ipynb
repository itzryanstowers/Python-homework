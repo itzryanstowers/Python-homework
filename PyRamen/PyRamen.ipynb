{
 "cells": [
  {
   "cell_type": "code",
   "execution_count": 24,
   "id": "8a1156d1",
   "metadata": {},
   "outputs": [],
   "source": [
    "import csv as cv"
   ]
  },
  {
   "cell_type": "code",
   "execution_count": 25,
   "id": "312e8fb8",
   "metadata": {},
   "outputs": [],
   "source": [
    "report = {}"
   ]
  },
  {
   "cell_type": "code",
   "execution_count": 26,
   "id": "543ea7a7",
   "metadata": {},
   "outputs": [],
   "source": [
    "sales_list = []\n",
    "menu_list = []"
   ]
  },
  {
   "cell_type": "code",
   "execution_count": 27,
   "id": "ffc4dc14",
   "metadata": {},
   "outputs": [],
   "source": [
    "with open (\"menu_data.csv\", mode='r', newline='') as file:\n",
    "    cv_reader1 = cv.reader(file)\n",
    "    header =  next(cv_reader1)\n",
    "    \n",
    "    for row in cv_reader1:\n",
    "        menu_list.append(row)\n"
   ]
  },
  {
   "cell_type": "code",
   "execution_count": 28,
   "id": "1c5a125b",
   "metadata": {},
   "outputs": [],
   "source": [
    "with open (\"sales_data.csv\", mode='r', newline='') as files:\n",
    "    cv_reader2 = cv.reader(files)\n",
    "    header = next(cv_reader2)\n",
    "    \n",
    "    for row in cv_reader2:\n",
    "        sales_list.append(row) "
   ]
  },
  {
   "cell_type": "code",
   "execution_count": 29,
   "id": "aea66793",
   "metadata": {},
   "outputs": [],
   "source": [
    "for row in sales_list:\n",
    "    quantity = int(float(row[3]))\n",
    "    item = row[4]"
   ]
  },
  {
   "cell_type": "markdown",
   "id": "cbec3712",
   "metadata": {},
   "source": [
    "### 2. Manipulate the Data"
   ]
  },
  {
   "cell_type": "code",
   "execution_count": 30,
   "id": "4254d8e4",
   "metadata": {},
   "outputs": [],
   "source": [
    "if item not in report:\n",
    "    report[item] = {\n",
    "        '01-count': 0,\n",
    "            '02-revenue': 0.0,\n",
    "            '03-cogs': 0.0,\n",
    "            '04-profit': 0.0\n",
    "    }\n",
    "    \n",
    "report[item]['01-count'] += quantity"
   ]
  },
  {
   "cell_type": "code",
   "execution_count": 31,
   "id": "3ee2a51d",
   "metadata": {},
   "outputs": [
    {
     "name": "stdout",
     "output_type": "stream",
     "text": [
      "This is filled\n"
     ]
    }
   ],
   "source": [
    "if len(report)> 0:\n",
    "    print(\"This is filled\")\n",
    "else:\n",
    "    print(\"this is empty\")"
   ]
  },
  {
   "cell_type": "code",
   "execution_count": 32,
   "id": "f5a79278",
   "metadata": {},
   "outputs": [],
   "source": [
    "Quantity.append(Quantity)\n",
    "Menu_Item.append(Menu_Item)"
   ]
  },
  {
   "cell_type": "code",
   "execution_count": 33,
   "id": "129c6000",
   "metadata": {},
   "outputs": [
    {
     "name": "stdout",
     "output_type": "stream",
     "text": [
      "quantities is populated\n"
     ]
    }
   ],
   "source": [
    "if len(Quantity) > 0:\n",
    "    print(\"quantities is populated\")\n",
    "else:\n",
    "    print(\"is empty\")\n",
    "        "
   ]
  },
  {
   "cell_type": "code",
   "execution_count": 34,
   "id": "aedf2448",
   "metadata": {},
   "outputs": [],
   "source": [
    "for sales_item in report:\n",
    "    if sales_item not in report:\n",
    "        report[sales_item] = {\n",
    "            '01-count': 0,\n",
    "            '02-revenue': 0.0,\n",
    "            '03-cogs': 0.0,\n",
    "            '04-profit': 0.0\n",
    "        }"
   ]
  },
  {
   "cell_type": "code",
   "execution_count": 35,
   "id": "f7f2f607",
   "metadata": {},
   "outputs": [
    {
     "name": "stdout",
     "output_type": "stream",
     "text": [
      "yes its here relax\n"
     ]
    }
   ],
   "source": [
    "if len(report)>0:\n",
    "    print(\"yes its here relax\")\n",
    "else:\n",
    "    print(\"You can overthink it now\")"
   ]
  },
  {
   "cell_type": "code",
   "execution_count": 36,
   "id": "30a213d2",
   "metadata": {},
   "outputs": [],
   "source": [
    "for m in menu_list:\n",
    "    Item = m[0]\n",
    "    Price = m[3]\n",
    "    Cost = m[4]"
   ]
  },
  {
   "cell_type": "code",
   "execution_count": 37,
   "id": "9af21535",
   "metadata": {},
   "outputs": [],
   "source": [
    "def process_sales_data(sales_list, menu_list):\n",
    "    report = {}\n",
    "# Process sales data and update the report    \n",
    "    for sales_row in sales_list:\n",
    "        sales_item = sales_row[4]# index 4 for \"Menu_Item\" from the sales data\n",
    "        quantity = int(sales_row[3])# index 3 for \"Quantity\" from the sales data\n",
    "        \n",
    "        matching_menu_item = None #used None to be stored for matching menu_items later\n",
    "        \n",
    "        for menu_row in menu_list:\n",
    "            item = menu_row[0]# index 0 for \"Item\" from the menu data\n",
    "            \n",
    "            if sales_item == item:\n",
    "                matching_menu_item = menu_row\n",
    "                break # once a match is found, loop breaks\n",
    "        \n",
    "        if matching_menu_item is not None: #when there are matching menu_items\n",
    "            price = float(matching_menu_item[3]) # index from the matching_menu_item for price\n",
    "            cost = float(matching_menu_item[4]) # index from the matching_menu_item for cost\n",
    "            profit = price - cost\n",
    "            \n",
    "            if sales_item not in report: # Check if sales_item is in the report\n",
    "                report[sales_item] = {\n",
    "                    '01-count': 0,\n",
    "                    '02-revenue': 0.0,\n",
    "                    '03-cogs': 0.0,\n",
    "                    '04-profit': 0.0\n",
    "                }\n",
    "            \n",
    "            report[sales_item]['01-count'] += quantity\n",
    "            report[sales_item]['02-revenue'] += price * quantity\n",
    "            report[sales_item]['03-cogs'] += cost * quantity\n",
    "            report[sales_item]['04-profit'] += profit * quantity\n",
    "        else:\n",
    "            print(f\"{sales_item} does not equal any item in the menu data! NO MATCH!\")\n",
    "    \n",
    "    return report\n"
   ]
  },
  {
   "cell_type": "code",
   "execution_count": 38,
   "id": "f3dcc41c",
   "metadata": {},
   "outputs": [
    {
     "data": {
      "text/plain": [
       "{'spicy miso ramen': {'01-count': 9238,\n",
       "  '02-revenue': 110856.0,\n",
       "  '03-cogs': 46190.0,\n",
       "  '04-profit': 64666.0},\n",
       " 'tori paitan ramen': {'01-count': 9156,\n",
       "  '02-revenue': 119028.0,\n",
       "  '03-cogs': 54936.0,\n",
       "  '04-profit': 64092.0},\n",
       " 'truffle butter ramen': {'01-count': 8982,\n",
       "  '02-revenue': 125748.0,\n",
       "  '03-cogs': 62874.0,\n",
       "  '04-profit': 62874.0},\n",
       " 'tonkotsu ramen': {'01-count': 9288,\n",
       "  '02-revenue': 120744.0,\n",
       "  '03-cogs': 55728.0,\n",
       "  '04-profit': 65016.0},\n",
       " 'vegetarian spicy miso': {'01-count': 9216,\n",
       "  '02-revenue': 110592.0,\n",
       "  '03-cogs': 46080.0,\n",
       "  '04-profit': 64512.0},\n",
       " 'shio ramen': {'01-count': 9180,\n",
       "  '02-revenue': 100980.0,\n",
       "  '03-cogs': 45900.0,\n",
       "  '04-profit': 55080.0},\n",
       " 'miso crab ramen': {'01-count': 8890,\n",
       "  '02-revenue': 106680.0,\n",
       "  '03-cogs': 53340.0,\n",
       "  '04-profit': 53340.0},\n",
       " 'nagomi shoyu': {'01-count': 9132,\n",
       "  '02-revenue': 100452.0,\n",
       "  '03-cogs': 45660.0,\n",
       "  '04-profit': 54792.0},\n",
       " 'soft-shell miso crab ramen': {'01-count': 9130,\n",
       "  '02-revenue': 127820.0,\n",
       "  '03-cogs': 63910.0,\n",
       "  '04-profit': 63910.0},\n",
       " 'burnt garlic tonkotsu ramen': {'01-count': 9070,\n",
       "  '02-revenue': 126980.0,\n",
       "  '03-cogs': 54420.0,\n",
       "  '04-profit': 72560.0},\n",
       " 'vegetarian curry + king trumpet mushroom ramen': {'01-count': 8824,\n",
       "  '02-revenue': 114712.0,\n",
       "  '03-cogs': 61768.0,\n",
       "  '04-profit': 52944.0}}"
      ]
     },
     "execution_count": 38,
     "metadata": {},
     "output_type": "execute_result"
    }
   ],
   "source": [
    "sales_report = process_sales_data(sales_list, menu_list)\n",
    "sales_report"
   ]
  },
  {
   "cell_type": "code",
   "execution_count": 39,
   "id": "ef68152b",
   "metadata": {},
   "outputs": [
    {
     "data": {
      "text/plain": [
       "{'01-count': 9070,\n",
       " '02-revenue': 126980.0,\n",
       " '03-cogs': 54420.0,\n",
       " '04-profit': 72560.0}"
      ]
     },
     "execution_count": 39,
     "metadata": {},
     "output_type": "execute_result"
    }
   ],
   "source": [
    "sales_report['burnt garlic tonkotsu ramen']"
   ]
  },
  {
   "cell_type": "code",
   "execution_count": 40,
   "id": "2b8607cb",
   "metadata": {},
   "outputs": [
    {
     "name": "stdout",
     "output_type": "stream",
     "text": [
      "Report data has been written to report.txt\n"
     ]
    }
   ],
   "source": [
    "# Define the output file path\n",
    "output_file_path = \"report.txt\"\n",
    "\n",
    "# Open the file for writing\n",
    "with open(output_file_path, \"w\") as file:\n",
    "    # Iterate over the report dictionary and write each entry to the file\n",
    "    for sales_item, metrics in report.items():\n",
    "        file.write(f\"{sales_item} {metrics['01-count']} {metrics['02-revenue']} {metrics['03-cogs']} {metrics['04-profit']}\\n\")\n",
    "\n",
    "# Print a message to confirm that the data has been written to the file\n",
    "print(f\"Report data has been written to {output_file_path}\")\n"
   ]
  },
  {
   "cell_type": "code",
   "execution_count": null,
   "id": "136ae4ce",
   "metadata": {},
   "outputs": [],
   "source": []
  }
 ],
 "metadata": {
  "kernelspec": {
   "display_name": "Python 3 (ipykernel)",
   "language": "python",
   "name": "python3"
  },
  "language_info": {
   "codemirror_mode": {
    "name": "ipython",
    "version": 3
   },
   "file_extension": ".py",
   "mimetype": "text/x-python",
   "name": "python",
   "nbconvert_exporter": "python",
   "pygments_lexer": "ipython3",
   "version": "3.10.9"
  }
 },
 "nbformat": 4,
 "nbformat_minor": 5
}
